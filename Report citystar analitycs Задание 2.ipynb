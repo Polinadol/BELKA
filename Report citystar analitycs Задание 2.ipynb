{
 "cells": [
  {
   "cell_type": "markdown",
   "id": "ddf1f48e",
   "metadata": {},
   "source": [
    "### Задача 2. На основе данных собранных в задании 1 разбить исходную выборку на кластеры методами кластерного анализа. Цель задания определить  район продажи квартиры на основе данных о ценах, площадях и количестве комнат. Сравнить полученный результат с реальным расположением квартир по районам. В качестве района рассматривать Ленинский, Орджоникидзевский, Правобережный, Орджоникидзевский (Левый берег) и Ленинский (левый берег)."
   ]
  },
  {
   "cell_type": "markdown",
   "id": "b7634624",
   "metadata": {},
   "source": [
    "#### Загрузим библиотеки, снова проведем обработку данных, т.к. District будут иначе трансформированны"
   ]
  },
  {
   "cell_type": "code",
   "execution_count": 61,
   "id": "60e61c4f",
   "metadata": {},
   "outputs": [],
   "source": [
    "import pandas as pd\n",
    "import numpy as np\n",
    "import random\n",
    "from scipy.stats import mode\n",
    "import matplotlib\n",
    "import matplotlib.image as img\n",
    "import matplotlib.pyplot as plt\n",
    "import seaborn as sns\n",
    "from sklearn.preprocessing import StandardScaler\n",
    "\n",
    "%matplotlib inline\n",
    "\n",
    "import warnings\n",
    "warnings.filterwarnings('ignore')\n",
    "matplotlib.rcParams.update({'font.size': 14})"
   ]
  },
  {
   "cell_type": "code",
   "execution_count": 62,
   "id": "a19c5e8e",
   "metadata": {
    "scrolled": true
   },
   "outputs": [
    {
     "data": {
      "text/html": [
       "<div>\n",
       "<style scoped>\n",
       "    .dataframe tbody tr th:only-of-type {\n",
       "        vertical-align: middle;\n",
       "    }\n",
       "\n",
       "    .dataframe tbody tr th {\n",
       "        vertical-align: top;\n",
       "    }\n",
       "\n",
       "    .dataframe thead th {\n",
       "        text-align: right;\n",
       "    }\n",
       "</style>\n",
       "<table border=\"1\" class=\"dataframe\">\n",
       "  <thead>\n",
       "    <tr style=\"text-align: right;\">\n",
       "      <th></th>\n",
       "      <th>Id</th>\n",
       "      <th>Type</th>\n",
       "      <th>Rooms</th>\n",
       "      <th>District</th>\n",
       "      <th>Adress</th>\n",
       "      <th>Floor</th>\n",
       "      <th>HouseFloor</th>\n",
       "      <th>Square</th>\n",
       "      <th>LivSquare</th>\n",
       "      <th>KitSquare</th>\n",
       "      <th>Windows</th>\n",
       "      <th>Furniture</th>\n",
       "      <th>Repair</th>\n",
       "      <th>Balcony glassed</th>\n",
       "      <th>WC</th>\n",
       "      <th>Price</th>\n",
       "    </tr>\n",
       "  </thead>\n",
       "  <tbody>\n",
       "    <tr>\n",
       "      <th>0</th>\n",
       "      <td>0</td>\n",
       "      <td>Living</td>\n",
       "      <td>1</td>\n",
       "      <td>Орджоникидзевский</td>\n",
       "      <td>Сиреневый проезд 28</td>\n",
       "      <td>4</td>\n",
       "      <td>9</td>\n",
       "      <td>32.4</td>\n",
       "      <td>18.0</td>\n",
       "      <td>9.0</td>\n",
       "      <td>пластик</td>\n",
       "      <td>да</td>\n",
       "      <td>да</td>\n",
       "      <td>NaN</td>\n",
       "      <td>NaN</td>\n",
       "      <td>2050000</td>\n",
       "    </tr>\n",
       "    <tr>\n",
       "      <th>1</th>\n",
       "      <td>1</td>\n",
       "      <td>Living</td>\n",
       "      <td>1</td>\n",
       "      <td>Правобережный</td>\n",
       "      <td>Им. газеты \"Правда\" 62</td>\n",
       "      <td>1</td>\n",
       "      <td>5</td>\n",
       "      <td>32.0</td>\n",
       "      <td>17.0</td>\n",
       "      <td>6.0</td>\n",
       "      <td>пластик</td>\n",
       "      <td>да</td>\n",
       "      <td>да</td>\n",
       "      <td>NaN</td>\n",
       "      <td>NaN</td>\n",
       "      <td>2050000</td>\n",
       "    </tr>\n",
       "    <tr>\n",
       "      <th>2</th>\n",
       "      <td>2</td>\n",
       "      <td>Living</td>\n",
       "      <td>1</td>\n",
       "      <td>Ленинский</td>\n",
       "      <td>Строителей 52</td>\n",
       "      <td>3</td>\n",
       "      <td>3</td>\n",
       "      <td>31.0</td>\n",
       "      <td>NaN</td>\n",
       "      <td>NaN</td>\n",
       "      <td>пластик</td>\n",
       "      <td>да</td>\n",
       "      <td>да</td>\n",
       "      <td>да</td>\n",
       "      <td>NaN</td>\n",
       "      <td>2100000</td>\n",
       "    </tr>\n",
       "    <tr>\n",
       "      <th>3</th>\n",
       "      <td>3</td>\n",
       "      <td>Living</td>\n",
       "      <td>1</td>\n",
       "      <td>Ленинский</td>\n",
       "      <td>Ленинградская 19</td>\n",
       "      <td>5</td>\n",
       "      <td>5</td>\n",
       "      <td>30.0</td>\n",
       "      <td>NaN</td>\n",
       "      <td>6.0</td>\n",
       "      <td>пластик</td>\n",
       "      <td>NaN</td>\n",
       "      <td>да</td>\n",
       "      <td>NaN</td>\n",
       "      <td>NaN</td>\n",
       "      <td>2050000</td>\n",
       "    </tr>\n",
       "    <tr>\n",
       "      <th>4</th>\n",
       "      <td>4</td>\n",
       "      <td>Living</td>\n",
       "      <td>1</td>\n",
       "      <td>Правобережный</td>\n",
       "      <td>Советской Армии 33/1</td>\n",
       "      <td>9</td>\n",
       "      <td>9</td>\n",
       "      <td>30.0</td>\n",
       "      <td>17.0</td>\n",
       "      <td>6.0</td>\n",
       "      <td>пластик</td>\n",
       "      <td>да</td>\n",
       "      <td>да</td>\n",
       "      <td>да</td>\n",
       "      <td>совм</td>\n",
       "      <td>1490000</td>\n",
       "    </tr>\n",
       "  </tbody>\n",
       "</table>\n",
       "</div>"
      ],
      "text/plain": [
       "   Id    Type  Rooms           District                   Adress  Floor  \\\n",
       "0   0  Living      1  Орджоникидзевский      Сиреневый проезд 28      4   \n",
       "1   1  Living      1      Правобережный   Им. газеты \"Правда\" 62      1   \n",
       "2   2  Living      1          Ленинский            Строителей 52      3   \n",
       "3   3  Living      1          Ленинский         Ленинградская 19      5   \n",
       "4   4  Living      1      Правобережный     Советской Армии 33/1      9   \n",
       "\n",
       "   HouseFloor  Square  LivSquare  KitSquare  Windows Furniture Repair  \\\n",
       "0           9    32.4       18.0        9.0  пластик        да     да   \n",
       "1           5    32.0       17.0        6.0  пластик        да     да   \n",
       "2           3    31.0        NaN        NaN  пластик        да     да   \n",
       "3           5    30.0        NaN        6.0  пластик       NaN     да   \n",
       "4           9    30.0       17.0        6.0  пластик        да     да   \n",
       "\n",
       "  Balcony glassed    WC    Price  \n",
       "0             NaN   NaN  2050000  \n",
       "1             NaN   NaN  2050000  \n",
       "2              да   NaN  2100000  \n",
       "3             NaN   NaN  2050000  \n",
       "4              да  совм  1490000  "
      ]
     },
     "execution_count": 62,
     "metadata": {},
     "output_type": "execute_result"
    }
   ],
   "source": [
    "df=pd.read_csv('Train-excel.csv',sep=',')\n",
    "df.head()"
   ]
  },
  {
   "cell_type": "markdown",
   "id": "a4b5a052",
   "metadata": {},
   "source": [
    "##### Удалим лишние признаки и оставим признаки, указанные в задании ЦЕНА, ПЛОЩАДИ (ВСЕ), КОЛ-ВО КОМНАТ.  Целевая переменная -район"
   ]
  },
  {
   "cell_type": "code",
   "execution_count": 63,
   "id": "48b65cea",
   "metadata": {},
   "outputs": [
    {
     "data": {
      "text/html": [
       "<div>\n",
       "<style scoped>\n",
       "    .dataframe tbody tr th:only-of-type {\n",
       "        vertical-align: middle;\n",
       "    }\n",
       "\n",
       "    .dataframe tbody tr th {\n",
       "        vertical-align: top;\n",
       "    }\n",
       "\n",
       "    .dataframe thead th {\n",
       "        text-align: right;\n",
       "    }\n",
       "</style>\n",
       "<table border=\"1\" class=\"dataframe\">\n",
       "  <thead>\n",
       "    <tr style=\"text-align: right;\">\n",
       "      <th></th>\n",
       "      <th>Rooms</th>\n",
       "      <th>District</th>\n",
       "      <th>Square</th>\n",
       "      <th>LivSquare</th>\n",
       "      <th>KitSquare</th>\n",
       "      <th>Price</th>\n",
       "    </tr>\n",
       "  </thead>\n",
       "  <tbody>\n",
       "    <tr>\n",
       "      <th>0</th>\n",
       "      <td>1</td>\n",
       "      <td>Орджоникидзевский</td>\n",
       "      <td>32.4</td>\n",
       "      <td>18.0</td>\n",
       "      <td>9.0</td>\n",
       "      <td>2050000</td>\n",
       "    </tr>\n",
       "    <tr>\n",
       "      <th>1</th>\n",
       "      <td>1</td>\n",
       "      <td>Правобережный</td>\n",
       "      <td>32.0</td>\n",
       "      <td>17.0</td>\n",
       "      <td>6.0</td>\n",
       "      <td>2050000</td>\n",
       "    </tr>\n",
       "    <tr>\n",
       "      <th>2</th>\n",
       "      <td>1</td>\n",
       "      <td>Ленинский</td>\n",
       "      <td>31.0</td>\n",
       "      <td>NaN</td>\n",
       "      <td>NaN</td>\n",
       "      <td>2100000</td>\n",
       "    </tr>\n",
       "    <tr>\n",
       "      <th>3</th>\n",
       "      <td>1</td>\n",
       "      <td>Ленинский</td>\n",
       "      <td>30.0</td>\n",
       "      <td>NaN</td>\n",
       "      <td>6.0</td>\n",
       "      <td>2050000</td>\n",
       "    </tr>\n",
       "    <tr>\n",
       "      <th>4</th>\n",
       "      <td>1</td>\n",
       "      <td>Правобережный</td>\n",
       "      <td>30.0</td>\n",
       "      <td>17.0</td>\n",
       "      <td>6.0</td>\n",
       "      <td>1490000</td>\n",
       "    </tr>\n",
       "  </tbody>\n",
       "</table>\n",
       "</div>"
      ],
      "text/plain": [
       "   Rooms           District  Square  LivSquare  KitSquare    Price\n",
       "0      1  Орджоникидзевский    32.4       18.0        9.0  2050000\n",
       "1      1      Правобережный    32.0       17.0        6.0  2050000\n",
       "2      1          Ленинский    31.0        NaN        NaN  2100000\n",
       "3      1          Ленинский    30.0        NaN        6.0  2050000\n",
       "4      1      Правобережный    30.0       17.0        6.0  1490000"
      ]
     },
     "execution_count": 63,
     "metadata": {},
     "output_type": "execute_result"
    }
   ],
   "source": [
    "df.drop(['Id','Type','Adress','Floor','HouseFloor','Windows','Furniture','Repair','Balcony glassed', 'WC'],axis=1, inplace=True)\n",
    "\n",
    "df.head()"
   ]
  },
  {
   "cell_type": "code",
   "execution_count": 64,
   "id": "cb1a5859",
   "metadata": {},
   "outputs": [
    {
     "data": {
      "text/plain": [
       "Rooms          int64\n",
       "District      object\n",
       "Square       float64\n",
       "LivSquare    float64\n",
       "KitSquare    float64\n",
       "Price          int64\n",
       "dtype: object"
      ]
     },
     "execution_count": 64,
     "metadata": {},
     "output_type": "execute_result"
    }
   ],
   "source": [
    "df.dtypes"
   ]
  },
  {
   "cell_type": "code",
   "execution_count": 65,
   "id": "aa800b86",
   "metadata": {},
   "outputs": [
    {
     "data": {
      "text/plain": [
       "Ленинский                          48\n",
       "Правобережный                      43\n",
       "Орджоникидзевский                  38\n",
       "Орджоникидзевский (левый берег)    22\n",
       "Ленинский(Левый берег)              5\n",
       "Name: District, dtype: int64"
      ]
     },
     "execution_count": 65,
     "metadata": {},
     "output_type": "execute_result"
    }
   ],
   "source": [
    "df['District'].value_counts()"
   ]
  },
  {
   "cell_type": "markdown",
   "id": "09d4c1e0",
   "metadata": {},
   "source": [
    " Т.к. District стал целевой переменной, то dummies уже не использовать, поэтому каждому названию района присвоен номер."
   ]
  },
  {
   "cell_type": "code",
   "execution_count": 66,
   "id": "9a7f3ccf",
   "metadata": {},
   "outputs": [],
   "source": [
    "df.District[df.District == 'Орджоникидзевский']=0\n",
    "df.District[df.District== 'Орджоникидзевский (левый берег)']=1\n",
    "df.District[df.District== 'Правобережный']=2\n",
    "df.District[df.District== 'Ленинский']=3\n",
    "df.District[df.District== 'Ленинский(Левый берег)']=4"
   ]
  },
  {
   "cell_type": "code",
   "execution_count": 67,
   "id": "fabcc851",
   "metadata": {},
   "outputs": [
    {
     "data": {
      "text/html": [
       "<div>\n",
       "<style scoped>\n",
       "    .dataframe tbody tr th:only-of-type {\n",
       "        vertical-align: middle;\n",
       "    }\n",
       "\n",
       "    .dataframe tbody tr th {\n",
       "        vertical-align: top;\n",
       "    }\n",
       "\n",
       "    .dataframe thead th {\n",
       "        text-align: right;\n",
       "    }\n",
       "</style>\n",
       "<table border=\"1\" class=\"dataframe\">\n",
       "  <thead>\n",
       "    <tr style=\"text-align: right;\">\n",
       "      <th></th>\n",
       "      <th>Rooms</th>\n",
       "      <th>District</th>\n",
       "      <th>Square</th>\n",
       "      <th>LivSquare</th>\n",
       "      <th>KitSquare</th>\n",
       "      <th>Price</th>\n",
       "    </tr>\n",
       "  </thead>\n",
       "  <tbody>\n",
       "    <tr>\n",
       "      <th>0</th>\n",
       "      <td>1</td>\n",
       "      <td>0</td>\n",
       "      <td>32.4</td>\n",
       "      <td>18.0</td>\n",
       "      <td>9.0</td>\n",
       "      <td>2050000</td>\n",
       "    </tr>\n",
       "    <tr>\n",
       "      <th>1</th>\n",
       "      <td>1</td>\n",
       "      <td>2</td>\n",
       "      <td>32.0</td>\n",
       "      <td>17.0</td>\n",
       "      <td>6.0</td>\n",
       "      <td>2050000</td>\n",
       "    </tr>\n",
       "    <tr>\n",
       "      <th>2</th>\n",
       "      <td>1</td>\n",
       "      <td>3</td>\n",
       "      <td>31.0</td>\n",
       "      <td>NaN</td>\n",
       "      <td>NaN</td>\n",
       "      <td>2100000</td>\n",
       "    </tr>\n",
       "    <tr>\n",
       "      <th>3</th>\n",
       "      <td>1</td>\n",
       "      <td>3</td>\n",
       "      <td>30.0</td>\n",
       "      <td>NaN</td>\n",
       "      <td>6.0</td>\n",
       "      <td>2050000</td>\n",
       "    </tr>\n",
       "    <tr>\n",
       "      <th>4</th>\n",
       "      <td>1</td>\n",
       "      <td>2</td>\n",
       "      <td>30.0</td>\n",
       "      <td>17.0</td>\n",
       "      <td>6.0</td>\n",
       "      <td>1490000</td>\n",
       "    </tr>\n",
       "  </tbody>\n",
       "</table>\n",
       "</div>"
      ],
      "text/plain": [
       "   Rooms District  Square  LivSquare  KitSquare    Price\n",
       "0      1        0    32.4       18.0        9.0  2050000\n",
       "1      1        2    32.0       17.0        6.0  2050000\n",
       "2      1        3    31.0        NaN        NaN  2100000\n",
       "3      1        3    30.0        NaN        6.0  2050000\n",
       "4      1        2    30.0       17.0        6.0  1490000"
      ]
     },
     "execution_count": 67,
     "metadata": {},
     "output_type": "execute_result"
    }
   ],
   "source": [
    "\n",
    "df.head()"
   ]
  },
  {
   "cell_type": "code",
   "execution_count": 68,
   "id": "fc81bd4f",
   "metadata": {},
   "outputs": [
    {
     "data": {
      "text/plain": [
       "3    48\n",
       "2    43\n",
       "0    38\n",
       "1    22\n",
       "4     5\n",
       "Name: District, dtype: int64"
      ]
     },
     "execution_count": 68,
     "metadata": {},
     "output_type": "execute_result"
    }
   ],
   "source": [
    "df['District'].value_counts()"
   ]
  },
  {
   "cell_type": "markdown",
   "id": "cb77fee6",
   "metadata": {},
   "source": [
    "### EDA"
   ]
  },
  {
   "cell_type": "code",
   "execution_count": 69,
   "id": "9a054f1b",
   "metadata": {},
   "outputs": [
    {
     "data": {
      "text/plain": [
       "Rooms         0\n",
       "District      0\n",
       "Square        0\n",
       "LivSquare    21\n",
       "KitSquare     8\n",
       "Price         0\n",
       "dtype: int64"
      ]
     },
     "execution_count": 69,
     "metadata": {},
     "output_type": "execute_result"
    }
   ],
   "source": [
    "df.isna().sum()"
   ]
  },
  {
   "cell_type": "code",
   "execution_count": 70,
   "id": "14f04180",
   "metadata": {},
   "outputs": [
    {
     "data": {
      "text/html": [
       "<div>\n",
       "<style scoped>\n",
       "    .dataframe tbody tr th:only-of-type {\n",
       "        vertical-align: middle;\n",
       "    }\n",
       "\n",
       "    .dataframe tbody tr th {\n",
       "        vertical-align: top;\n",
       "    }\n",
       "\n",
       "    .dataframe thead th {\n",
       "        text-align: right;\n",
       "    }\n",
       "</style>\n",
       "<table border=\"1\" class=\"dataframe\">\n",
       "  <thead>\n",
       "    <tr style=\"text-align: right;\">\n",
       "      <th></th>\n",
       "      <th>Rooms</th>\n",
       "      <th>Square</th>\n",
       "      <th>LivSquare</th>\n",
       "      <th>KitSquare</th>\n",
       "      <th>Price</th>\n",
       "    </tr>\n",
       "  </thead>\n",
       "  <tbody>\n",
       "    <tr>\n",
       "      <th>count</th>\n",
       "      <td>156.000000</td>\n",
       "      <td>156.000000</td>\n",
       "      <td>135.000000</td>\n",
       "      <td>148.000000</td>\n",
       "      <td>1.560000e+02</td>\n",
       "    </tr>\n",
       "    <tr>\n",
       "      <th>mean</th>\n",
       "      <td>2.211538</td>\n",
       "      <td>54.698718</td>\n",
       "      <td>36.272296</td>\n",
       "      <td>9.234054</td>\n",
       "      <td>2.888122e+06</td>\n",
       "    </tr>\n",
       "    <tr>\n",
       "      <th>std</th>\n",
       "      <td>0.983802</td>\n",
       "      <td>20.730411</td>\n",
       "      <td>17.295014</td>\n",
       "      <td>8.125084</td>\n",
       "      <td>1.280661e+06</td>\n",
       "    </tr>\n",
       "    <tr>\n",
       "      <th>min</th>\n",
       "      <td>1.000000</td>\n",
       "      <td>20.600000</td>\n",
       "      <td>10.000000</td>\n",
       "      <td>4.000000</td>\n",
       "      <td>1.000000e+06</td>\n",
       "    </tr>\n",
       "    <tr>\n",
       "      <th>25%</th>\n",
       "      <td>1.000000</td>\n",
       "      <td>41.450000</td>\n",
       "      <td>21.500000</td>\n",
       "      <td>6.000000</td>\n",
       "      <td>2.050000e+06</td>\n",
       "    </tr>\n",
       "    <tr>\n",
       "      <th>50%</th>\n",
       "      <td>2.000000</td>\n",
       "      <td>54.800000</td>\n",
       "      <td>33.500000</td>\n",
       "      <td>8.000000</td>\n",
       "      <td>2.600000e+06</td>\n",
       "    </tr>\n",
       "    <tr>\n",
       "      <th>75%</th>\n",
       "      <td>3.000000</td>\n",
       "      <td>65.000000</td>\n",
       "      <td>45.000000</td>\n",
       "      <td>9.000000</td>\n",
       "      <td>3.312500e+06</td>\n",
       "    </tr>\n",
       "    <tr>\n",
       "      <th>max</th>\n",
       "      <td>4.000000</td>\n",
       "      <td>160.000000</td>\n",
       "      <td>120.000000</td>\n",
       "      <td>81.000000</td>\n",
       "      <td>8.490000e+06</td>\n",
       "    </tr>\n",
       "  </tbody>\n",
       "</table>\n",
       "</div>"
      ],
      "text/plain": [
       "            Rooms      Square   LivSquare   KitSquare         Price\n",
       "count  156.000000  156.000000  135.000000  148.000000  1.560000e+02\n",
       "mean     2.211538   54.698718   36.272296    9.234054  2.888122e+06\n",
       "std      0.983802   20.730411   17.295014    8.125084  1.280661e+06\n",
       "min      1.000000   20.600000   10.000000    4.000000  1.000000e+06\n",
       "25%      1.000000   41.450000   21.500000    6.000000  2.050000e+06\n",
       "50%      2.000000   54.800000   33.500000    8.000000  2.600000e+06\n",
       "75%      3.000000   65.000000   45.000000    9.000000  3.312500e+06\n",
       "max      4.000000  160.000000  120.000000   81.000000  8.490000e+06"
      ]
     },
     "execution_count": 70,
     "metadata": {},
     "output_type": "execute_result"
    }
   ],
   "source": [
    "df.describe()"
   ]
  },
  {
   "cell_type": "code",
   "execution_count": 71,
   "id": "eb1c36c7",
   "metadata": {},
   "outputs": [],
   "source": [
    "medians = df[['LivSquare','KitSquare']].median()"
   ]
  },
  {
   "cell_type": "code",
   "execution_count": 72,
   "id": "e3576353",
   "metadata": {},
   "outputs": [],
   "source": [
    "df[['LivSquare','KitSquare']]= df[['LivSquare','KitSquare']].fillna(medians)"
   ]
  },
  {
   "cell_type": "code",
   "execution_count": 73,
   "id": "969419ce",
   "metadata": {},
   "outputs": [],
   "source": [
    "df['District'] = df['District'].astype(int)"
   ]
  },
  {
   "cell_type": "code",
   "execution_count": 74,
   "id": "0692427c",
   "metadata": {},
   "outputs": [
    {
     "name": "stdout",
     "output_type": "stream",
     "text": [
      "<class 'pandas.core.frame.DataFrame'>\n",
      "RangeIndex: 156 entries, 0 to 155\n",
      "Data columns (total 6 columns):\n",
      " #   Column     Non-Null Count  Dtype  \n",
      "---  ------     --------------  -----  \n",
      " 0   Rooms      156 non-null    int64  \n",
      " 1   District   156 non-null    int32  \n",
      " 2   Square     156 non-null    float64\n",
      " 3   LivSquare  156 non-null    float64\n",
      " 4   KitSquare  156 non-null    float64\n",
      " 5   Price      156 non-null    int64  \n",
      "dtypes: float64(3), int32(1), int64(2)\n",
      "memory usage: 6.8 KB\n"
     ]
    }
   ],
   "source": [
    "df.info()"
   ]
  },
  {
   "cell_type": "code",
   "execution_count": 75,
   "id": "73224a2f",
   "metadata": {},
   "outputs": [
    {
     "data": {
      "text/html": [
       "<div>\n",
       "<style scoped>\n",
       "    .dataframe tbody tr th:only-of-type {\n",
       "        vertical-align: middle;\n",
       "    }\n",
       "\n",
       "    .dataframe tbody tr th {\n",
       "        vertical-align: top;\n",
       "    }\n",
       "\n",
       "    .dataframe thead th {\n",
       "        text-align: right;\n",
       "    }\n",
       "</style>\n",
       "<table border=\"1\" class=\"dataframe\">\n",
       "  <thead>\n",
       "    <tr style=\"text-align: right;\">\n",
       "      <th></th>\n",
       "      <th>Rooms</th>\n",
       "      <th>District</th>\n",
       "      <th>Square</th>\n",
       "      <th>LivSquare</th>\n",
       "      <th>KitSquare</th>\n",
       "      <th>Price</th>\n",
       "    </tr>\n",
       "  </thead>\n",
       "  <tbody>\n",
       "    <tr>\n",
       "      <th>count</th>\n",
       "      <td>156.000000</td>\n",
       "      <td>156.000000</td>\n",
       "      <td>156.000000</td>\n",
       "      <td>156.000000</td>\n",
       "      <td>156.000000</td>\n",
       "      <td>1.560000e+02</td>\n",
       "    </tr>\n",
       "    <tr>\n",
       "      <th>mean</th>\n",
       "      <td>2.211538</td>\n",
       "      <td>1.743590</td>\n",
       "      <td>54.698718</td>\n",
       "      <td>35.899103</td>\n",
       "      <td>9.170769</td>\n",
       "      <td>2.888122e+06</td>\n",
       "    </tr>\n",
       "    <tr>\n",
       "      <th>std</th>\n",
       "      <td>0.983802</td>\n",
       "      <td>1.222751</td>\n",
       "      <td>20.730411</td>\n",
       "      <td>16.108787</td>\n",
       "      <td>7.917338</td>\n",
       "      <td>1.280661e+06</td>\n",
       "    </tr>\n",
       "    <tr>\n",
       "      <th>min</th>\n",
       "      <td>1.000000</td>\n",
       "      <td>0.000000</td>\n",
       "      <td>20.600000</td>\n",
       "      <td>10.000000</td>\n",
       "      <td>4.000000</td>\n",
       "      <td>1.000000e+06</td>\n",
       "    </tr>\n",
       "    <tr>\n",
       "      <th>25%</th>\n",
       "      <td>1.000000</td>\n",
       "      <td>1.000000</td>\n",
       "      <td>41.450000</td>\n",
       "      <td>25.000000</td>\n",
       "      <td>6.000000</td>\n",
       "      <td>2.050000e+06</td>\n",
       "    </tr>\n",
       "    <tr>\n",
       "      <th>50%</th>\n",
       "      <td>2.000000</td>\n",
       "      <td>2.000000</td>\n",
       "      <td>54.800000</td>\n",
       "      <td>33.500000</td>\n",
       "      <td>8.000000</td>\n",
       "      <td>2.600000e+06</td>\n",
       "    </tr>\n",
       "    <tr>\n",
       "      <th>75%</th>\n",
       "      <td>3.000000</td>\n",
       "      <td>3.000000</td>\n",
       "      <td>65.000000</td>\n",
       "      <td>44.000000</td>\n",
       "      <td>9.000000</td>\n",
       "      <td>3.312500e+06</td>\n",
       "    </tr>\n",
       "    <tr>\n",
       "      <th>max</th>\n",
       "      <td>4.000000</td>\n",
       "      <td>4.000000</td>\n",
       "      <td>160.000000</td>\n",
       "      <td>120.000000</td>\n",
       "      <td>81.000000</td>\n",
       "      <td>8.490000e+06</td>\n",
       "    </tr>\n",
       "  </tbody>\n",
       "</table>\n",
       "</div>"
      ],
      "text/plain": [
       "            Rooms    District      Square   LivSquare   KitSquare  \\\n",
       "count  156.000000  156.000000  156.000000  156.000000  156.000000   \n",
       "mean     2.211538    1.743590   54.698718   35.899103    9.170769   \n",
       "std      0.983802    1.222751   20.730411   16.108787    7.917338   \n",
       "min      1.000000    0.000000   20.600000   10.000000    4.000000   \n",
       "25%      1.000000    1.000000   41.450000   25.000000    6.000000   \n",
       "50%      2.000000    2.000000   54.800000   33.500000    8.000000   \n",
       "75%      3.000000    3.000000   65.000000   44.000000    9.000000   \n",
       "max      4.000000    4.000000  160.000000  120.000000   81.000000   \n",
       "\n",
       "              Price  \n",
       "count  1.560000e+02  \n",
       "mean   2.888122e+06  \n",
       "std    1.280661e+06  \n",
       "min    1.000000e+06  \n",
       "25%    2.050000e+06  \n",
       "50%    2.600000e+06  \n",
       "75%    3.312500e+06  \n",
       "max    8.490000e+06  "
      ]
     },
     "execution_count": 75,
     "metadata": {},
     "output_type": "execute_result"
    }
   ],
   "source": [
    "df.describe()"
   ]
  },
  {
   "cell_type": "code",
   "execution_count": 76,
   "id": "b1715600",
   "metadata": {},
   "outputs": [],
   "source": [
    "from scipy.spatial.distance import cdist\n",
    "from mpl_toolkits.mplot3d.axes3d import Axes3D\n",
    "\n",
    "from sklearn.preprocessing import StandardScaler, RobustScaler\n",
    "\n",
    "# Кластеризация\n",
    "from sklearn.cluster import KMeans, DBSCAN, AgglomerativeClustering\n",
    "\n",
    "from sklearn.neighbors import KNeighborsClassifier\n",
    "\n",
    "# Понижения размерности\n",
    "from sklearn.decomposition import PCA\n",
    "from sklearn.manifold import TSNE\n",
    "\n",
    "\n",
    "from sklearn.model_selection import train_test_split\n",
    "from sklearn.metrics import r2_score as r2, mean_absolute_error as mae, mean_squared_error as mse\n",
    "\n",
    "from sklearn.ensemble import GradientBoostingRegressor\n",
    "\n",
    "import warnings\n",
    "warnings.filterwarnings('ignore')\n",
    "\n",
    "import matplotlib\n",
    "import matplotlib.pyplot as plt\n",
    "import seaborn as sns\n",
    "%matplotlib inline"
   ]
  },
  {
   "cell_type": "code",
   "execution_count": 77,
   "id": "c97e6485",
   "metadata": {},
   "outputs": [],
   "source": [
    "matplotlib.rcParams.update({'font.size': 12})"
   ]
  },
  {
   "cell_type": "markdown",
   "id": "19429ce6",
   "metadata": {},
   "source": [
    "### Функции, которые будут использоваться"
   ]
  },
  {
   "cell_type": "code",
   "execution_count": 78,
   "id": "46ed7f6e",
   "metadata": {},
   "outputs": [],
   "source": [
    "def reduce_dims(df, dims=2, method='pca', perplexity=30):\n",
    "    \n",
    "    assert method in ['pca', 'tsne'], 'Неверно указан метод'\n",
    "    \n",
    "    if method=='pca':\n",
    "        dim_reducer = PCA(n_components=dims, random_state=42)\n",
    "        components = dim_reducer.fit_transform(df)\n",
    "    elif method == 'tsne':\n",
    "        dim_reducer = TSNE(n_components=dims, learning_rate=250, random_state=42, perplexity=perplexity)\n",
    "        components = dim_reducer.fit_transform(df)\n",
    "    else:\n",
    "        print('Error')\n",
    "        \n",
    "    colnames = ['component_' + str(i) for i in range(1, dims+1)]\n",
    "    return dim_reducer, pd.DataFrame(data = components, columns = colnames) "
   ]
  },
  {
   "cell_type": "code",
   "execution_count": 79,
   "id": "f371660c",
   "metadata": {},
   "outputs": [],
   "source": [
    "def display_components_in_2D_space(components_df, labels=None):\n",
    "    components_with_labels_df = pd.concat([components_df, pd.DataFrame(labels)], axis=1)\n",
    "\n",
    "    figsize = (10, 7)\n",
    "    if labels is not None:\n",
    "        components_with_labels_df.plot(kind='scatter', x='component_1', y='component_2', \n",
    "                                         c=components_with_labels_df.iloc[:, -1], cmap=plt.get_cmap('jet'),\n",
    "                                         alpha=0.5, figsize=figsize)\n",
    "    else:\n",
    "        components_with_labels_df.plot(kind='scatter', x='component_1', y='component_2', alpha=0.5, figsize=figsize)\n",
    "\n",
    "    plt.xlabel('component_1')\n",
    "    plt.ylabel('component_2')\n",
    "    plt.title('2D mapping of objects')    \n",
    "    plt.show()\n",
    "\n",
    "def display_components_in_3D_space(components_df, labels=None):\n",
    "    components_with_labels_df = pd.concat([components_df, pd.DataFrame(labels)], axis=1)\n",
    "\n",
    "    fig = plt.figure(figsize=(10,10))\n",
    "    ax = fig.add_subplot(111, projection='3d')\n",
    "    \n",
    "    if labels is not None:\n",
    "        ax.scatter(components_with_labels_df['component_1'], \n",
    "                   components_with_labels_df['component_2'], \n",
    "                   components_with_labels_df['component_3'], \n",
    "                   c=components_with_labels_df.iloc[:, -1], \n",
    "                   cmap=plt.get_cmap('jet'), alpha=0.5)\n",
    "    else:\n",
    "        ax.scatter(components_with_labels_df['component_1'], \n",
    "                   components_with_labels_df['component_2'], \n",
    "                   components_with_labels_df['component_3'], \n",
    "                   alpha=0.5)\n",
    "\n",
    "    ax.set_xlabel('component_1')\n",
    "    ax.set_ylabel('component_2')\n",
    "    ax.set_zlabel('component_3')\n",
    "    plt.title('3D mapping of objects')\n",
    "    plt.show()"
   ]
  },
  {
   "cell_type": "code",
   "execution_count": 80,
   "id": "cbab3c58",
   "metadata": {},
   "outputs": [],
   "source": [
    "def apply_elbow_method(X):\n",
    "    \"\"\"Визуализация для метода 'локтя'\"\"\"\n",
    "    \n",
    "    distortions = []\n",
    "    K = range(2,30)\n",
    "    for k in K:\n",
    "        kmeanModel = KMeans(n_clusters=k, random_state=33).fit(X)\n",
    "        distortions.append(sum(np.min(cdist(X, kmeanModel.cluster_centers_, 'euclidean'), axis=1)) / X.shape[0])\n",
    "\n",
    "    plt.figure(figsize=(12, 8))\n",
    "    plt.plot(K, distortions, 'bx-')\n",
    "    plt.xlabel('k')\n",
    "    plt.ylabel('Distortion')\n",
    "    plt.title('The Elbow Method showing the optimal k')\n",
    "    plt.show()"
   ]
  },
  {
   "cell_type": "code",
   "execution_count": 81,
   "id": "4ba7f512",
   "metadata": {},
   "outputs": [],
   "source": [
    "def display_clusters_distribution(unique_labels, labels_counts):\n",
    "    \"\"\"Визуализация распределения классов по кластерам\"\"\"\n",
    "    plt.figure(figsize=(8,5))\n",
    "\n",
    "    plt.bar(unique, counts)\n",
    "\n",
    "    plt.xlabel('Clusters')\n",
    "    plt.xticks(unique)\n",
    "    plt.ylabel('Count')\n",
    "    plt.title('Clusters distribution')\n",
    "    plt.show()"
   ]
  },
  {
   "cell_type": "code",
   "execution_count": 82,
   "id": "941a89b7",
   "metadata": {},
   "outputs": [],
   "source": [
    "def evaluate_preds(true_values, pred_values):\n",
    "    print(\"R2:\\t\" + str(round(r2(true_values, pred_values), 3)) + \"\\n\" +\n",
    "          \"MAE:\\t\" + str(round(mae(true_values, pred_values), 3)) + \"\\n\" +\n",
    "          \"MSE:\\t\" + str(round(mse(true_values, pred_values), 3)))\n",
    "    \n",
    "    plt.figure(figsize=(10,10))\n",
    "    \n",
    "    sns.scatterplot(x=pred_values, y=true_values)\n",
    "    \n",
    "    plt.xlabel('Predicted values')\n",
    "    plt.ylabel('True values')\n",
    "    plt.title('True vs Predicted values')\n",
    "    plt.show()"
   ]
  },
  {
   "cell_type": "code",
   "execution_count": 83,
   "id": "10310b1c",
   "metadata": {},
   "outputs": [
    {
     "data": {
      "text/plain": [
       "['Rooms', 'Square', 'LivSquare', 'KitSquare', 'Price']"
      ]
     },
     "execution_count": 83,
     "metadata": {},
     "output_type": "execute_result"
    }
   ],
   "source": [
    "feature_names=['Rooms','Square','LivSquare', 'KitSquare','Price']\n",
    "feature_names"
   ]
  },
  {
   "cell_type": "code",
   "execution_count": 84,
   "id": "dcea3d8f",
   "metadata": {},
   "outputs": [
    {
     "data": {
      "text/plain": [
       "['District']"
      ]
     },
     "execution_count": 84,
     "metadata": {},
     "output_type": "execute_result"
    }
   ],
   "source": [
    "target=['District']\n",
    "target"
   ]
  },
  {
   "cell_type": "code",
   "execution_count": 85,
   "id": "67a82ab3",
   "metadata": {},
   "outputs": [],
   "source": [
    "X=df[feature_names]\n",
    "y=df[target]"
   ]
  },
  {
   "cell_type": "markdown",
   "id": "3fb4dd6d",
   "metadata": {},
   "source": [
    "### Разделение на train и test"
   ]
  },
  {
   "cell_type": "code",
   "execution_count": 86,
   "id": "6ded70da",
   "metadata": {},
   "outputs": [],
   "source": [
    "X_train, X_test, y_train, y_test = train_test_split(X, y, test_size=0.33, shuffle=True, random_state=42)"
   ]
  },
  {
   "cell_type": "markdown",
   "id": "e5cf435d",
   "metadata": {},
   "source": [
    "### Нормализация и стандартизация"
   ]
  },
  {
   "cell_type": "code",
   "execution_count": 87,
   "id": "0fa0a8bc",
   "metadata": {},
   "outputs": [
    {
     "data": {
      "text/html": [
       "<div>\n",
       "<style scoped>\n",
       "    .dataframe tbody tr th:only-of-type {\n",
       "        vertical-align: middle;\n",
       "    }\n",
       "\n",
       "    .dataframe tbody tr th {\n",
       "        vertical-align: top;\n",
       "    }\n",
       "\n",
       "    .dataframe thead th {\n",
       "        text-align: right;\n",
       "    }\n",
       "</style>\n",
       "<table border=\"1\" class=\"dataframe\">\n",
       "  <thead>\n",
       "    <tr style=\"text-align: right;\">\n",
       "      <th></th>\n",
       "      <th>Rooms</th>\n",
       "      <th>Square</th>\n",
       "      <th>LivSquare</th>\n",
       "      <th>KitSquare</th>\n",
       "      <th>Price</th>\n",
       "    </tr>\n",
       "  </thead>\n",
       "  <tbody>\n",
       "    <tr>\n",
       "      <th>0</th>\n",
       "      <td>-0.5</td>\n",
       "      <td>-0.832677</td>\n",
       "      <td>-0.710526</td>\n",
       "      <td>0.666667</td>\n",
       "      <td>-0.693333</td>\n",
       "    </tr>\n",
       "    <tr>\n",
       "      <th>1</th>\n",
       "      <td>0.5</td>\n",
       "      <td>0.277559</td>\n",
       "      <td>0.552632</td>\n",
       "      <td>-0.666667</td>\n",
       "      <td>0.419048</td>\n",
       "    </tr>\n",
       "  </tbody>\n",
       "</table>\n",
       "</div>"
      ],
      "text/plain": [
       "   Rooms    Square  LivSquare  KitSquare     Price\n",
       "0   -0.5 -0.832677  -0.710526   0.666667 -0.693333\n",
       "1    0.5  0.277559   0.552632  -0.666667  0.419048"
      ]
     },
     "execution_count": 87,
     "metadata": {},
     "output_type": "execute_result"
    }
   ],
   "source": [
    "scaler = RobustScaler()\n",
    "\n",
    "colnames = X.columns\n",
    "X_train_scaled = pd.DataFrame(scaler.fit_transform(X_train), columns=colnames)\n",
    "X_test_scaled = pd.DataFrame(scaler.transform(X_test), columns=colnames)\n",
    "\n",
    "X_train_scaled.head(2)"
   ]
  },
  {
   "cell_type": "code",
   "execution_count": 88,
   "id": "df5bdcc2",
   "metadata": {},
   "outputs": [
    {
     "data": {
      "text/html": [
       "<div>\n",
       "<style scoped>\n",
       "    .dataframe tbody tr th:only-of-type {\n",
       "        vertical-align: middle;\n",
       "    }\n",
       "\n",
       "    .dataframe tbody tr th {\n",
       "        vertical-align: top;\n",
       "    }\n",
       "\n",
       "    .dataframe thead th {\n",
       "        text-align: right;\n",
       "    }\n",
       "</style>\n",
       "<table border=\"1\" class=\"dataframe\">\n",
       "  <thead>\n",
       "    <tr style=\"text-align: right;\">\n",
       "      <th></th>\n",
       "      <th>Rooms</th>\n",
       "      <th>Square</th>\n",
       "      <th>LivSquare</th>\n",
       "      <th>KitSquare</th>\n",
       "      <th>Price</th>\n",
       "    </tr>\n",
       "  </thead>\n",
       "  <tbody>\n",
       "    <tr>\n",
       "      <th>count</th>\n",
       "      <td>104.000000</td>\n",
       "      <td>1.040000e+02</td>\n",
       "      <td>104.000000</td>\n",
       "      <td>104.000000</td>\n",
       "      <td>104.000000</td>\n",
       "    </tr>\n",
       "    <tr>\n",
       "      <th>mean</th>\n",
       "      <td>0.115385</td>\n",
       "      <td>-2.294064e-02</td>\n",
       "      <td>0.136822</td>\n",
       "      <td>0.511026</td>\n",
       "      <td>0.230000</td>\n",
       "    </tr>\n",
       "    <tr>\n",
       "      <th>std</th>\n",
       "      <td>0.513085</td>\n",
       "      <td>8.517737e-01</td>\n",
       "      <td>0.903568</td>\n",
       "      <td>3.138227</td>\n",
       "      <td>1.044970</td>\n",
       "    </tr>\n",
       "    <tr>\n",
       "      <th>min</th>\n",
       "      <td>-0.500000</td>\n",
       "      <td>-1.352362e+00</td>\n",
       "      <td>-1.236842</td>\n",
       "      <td>-1.333333</td>\n",
       "      <td>-1.219048</td>\n",
       "    </tr>\n",
       "    <tr>\n",
       "      <th>25%</th>\n",
       "      <td>-0.500000</td>\n",
       "      <td>-6.072835e-01</td>\n",
       "      <td>-0.447368</td>\n",
       "      <td>-0.666667</td>\n",
       "      <td>-0.419048</td>\n",
       "    </tr>\n",
       "    <tr>\n",
       "      <th>50%</th>\n",
       "      <td>0.000000</td>\n",
       "      <td>-1.396452e-16</td>\n",
       "      <td>0.000000</td>\n",
       "      <td>0.000000</td>\n",
       "      <td>0.000000</td>\n",
       "    </tr>\n",
       "    <tr>\n",
       "      <th>75%</th>\n",
       "      <td>0.500000</td>\n",
       "      <td>3.927165e-01</td>\n",
       "      <td>0.552632</td>\n",
       "      <td>0.333333</td>\n",
       "      <td>0.580952</td>\n",
       "    </tr>\n",
       "    <tr>\n",
       "      <th>max</th>\n",
       "      <td>1.000000</td>\n",
       "      <td>4.135827e+00</td>\n",
       "      <td>4.552632</td>\n",
       "      <td>24.333333</td>\n",
       "      <td>4.487619</td>\n",
       "    </tr>\n",
       "  </tbody>\n",
       "</table>\n",
       "</div>"
      ],
      "text/plain": [
       "            Rooms        Square   LivSquare   KitSquare       Price\n",
       "count  104.000000  1.040000e+02  104.000000  104.000000  104.000000\n",
       "mean     0.115385 -2.294064e-02    0.136822    0.511026    0.230000\n",
       "std      0.513085  8.517737e-01    0.903568    3.138227    1.044970\n",
       "min     -0.500000 -1.352362e+00   -1.236842   -1.333333   -1.219048\n",
       "25%     -0.500000 -6.072835e-01   -0.447368   -0.666667   -0.419048\n",
       "50%      0.000000 -1.396452e-16    0.000000    0.000000    0.000000\n",
       "75%      0.500000  3.927165e-01    0.552632    0.333333    0.580952\n",
       "max      1.000000  4.135827e+00    4.552632   24.333333    4.487619"
      ]
     },
     "execution_count": 88,
     "metadata": {},
     "output_type": "execute_result"
    }
   ],
   "source": [
    "X_train_scaled.describe()"
   ]
  },
  {
   "cell_type": "code",
   "execution_count": 89,
   "id": "0f252e82",
   "metadata": {},
   "outputs": [
    {
     "data": {
      "text/html": [
       "<div>\n",
       "<style scoped>\n",
       "    .dataframe tbody tr th:only-of-type {\n",
       "        vertical-align: middle;\n",
       "    }\n",
       "\n",
       "    .dataframe tbody tr th {\n",
       "        vertical-align: top;\n",
       "    }\n",
       "\n",
       "    .dataframe thead th {\n",
       "        text-align: right;\n",
       "    }\n",
       "</style>\n",
       "<table border=\"1\" class=\"dataframe\">\n",
       "  <thead>\n",
       "    <tr style=\"text-align: right;\">\n",
       "      <th></th>\n",
       "      <th>Rooms</th>\n",
       "      <th>Square</th>\n",
       "      <th>LivSquare</th>\n",
       "      <th>KitSquare</th>\n",
       "      <th>Price</th>\n",
       "    </tr>\n",
       "  </thead>\n",
       "  <tbody>\n",
       "    <tr>\n",
       "      <th>0</th>\n",
       "      <td>0.5</td>\n",
       "      <td>0.541339</td>\n",
       "      <td>0.000000</td>\n",
       "      <td>0.000000</td>\n",
       "      <td>-0.533333</td>\n",
       "    </tr>\n",
       "    <tr>\n",
       "      <th>1</th>\n",
       "      <td>0.0</td>\n",
       "      <td>-0.076772</td>\n",
       "      <td>0.236842</td>\n",
       "      <td>-0.333333</td>\n",
       "      <td>-0.845714</td>\n",
       "    </tr>\n",
       "  </tbody>\n",
       "</table>\n",
       "</div>"
      ],
      "text/plain": [
       "   Rooms    Square  LivSquare  KitSquare     Price\n",
       "0    0.5  0.541339   0.000000   0.000000 -0.533333\n",
       "1    0.0 -0.076772   0.236842  -0.333333 -0.845714"
      ]
     },
     "execution_count": 89,
     "metadata": {},
     "output_type": "execute_result"
    }
   ],
   "source": [
    "X_test_scaled.head(2)"
   ]
  },
  {
   "cell_type": "code",
   "execution_count": 90,
   "id": "e2221c76",
   "metadata": {},
   "outputs": [
    {
     "data": {
      "text/html": [
       "<div>\n",
       "<style scoped>\n",
       "    .dataframe tbody tr th:only-of-type {\n",
       "        vertical-align: middle;\n",
       "    }\n",
       "\n",
       "    .dataframe tbody tr th {\n",
       "        vertical-align: top;\n",
       "    }\n",
       "\n",
       "    .dataframe thead th {\n",
       "        text-align: right;\n",
       "    }\n",
       "</style>\n",
       "<table border=\"1\" class=\"dataframe\">\n",
       "  <thead>\n",
       "    <tr style=\"text-align: right;\">\n",
       "      <th></th>\n",
       "      <th>Rooms</th>\n",
       "      <th>Square</th>\n",
       "      <th>LivSquare</th>\n",
       "      <th>KitSquare</th>\n",
       "      <th>Price</th>\n",
       "    </tr>\n",
       "  </thead>\n",
       "  <tbody>\n",
       "    <tr>\n",
       "      <th>count</th>\n",
       "      <td>52.000000</td>\n",
       "      <td>52.000000</td>\n",
       "      <td>52.000000</td>\n",
       "      <td>52.000000</td>\n",
       "      <td>52.000000</td>\n",
       "    </tr>\n",
       "    <tr>\n",
       "      <th>mean</th>\n",
       "      <td>0.086538</td>\n",
       "      <td>0.016202</td>\n",
       "      <td>0.105162</td>\n",
       "      <td>0.148718</td>\n",
       "      <td>0.198564</td>\n",
       "    </tr>\n",
       "    <tr>\n",
       "      <th>std</th>\n",
       "      <td>0.450720</td>\n",
       "      <td>0.747101</td>\n",
       "      <td>0.731492</td>\n",
       "      <td>1.090231</td>\n",
       "      <td>0.829182</td>\n",
       "    </tr>\n",
       "    <tr>\n",
       "      <th>min</th>\n",
       "      <td>-0.500000</td>\n",
       "      <td>-1.297244</td>\n",
       "      <td>-1.131579</td>\n",
       "      <td>-1.000000</td>\n",
       "      <td>-1.030095</td>\n",
       "    </tr>\n",
       "    <tr>\n",
       "      <th>25%</th>\n",
       "      <td>-0.500000</td>\n",
       "      <td>-0.509843</td>\n",
       "      <td>-0.398684</td>\n",
       "      <td>-0.666667</td>\n",
       "      <td>-0.342857</td>\n",
       "    </tr>\n",
       "    <tr>\n",
       "      <th>50%</th>\n",
       "      <td>0.000000</td>\n",
       "      <td>-0.057087</td>\n",
       "      <td>0.000000</td>\n",
       "      <td>0.000000</td>\n",
       "      <td>0.019048</td>\n",
       "    </tr>\n",
       "    <tr>\n",
       "      <th>75%</th>\n",
       "      <td>0.500000</td>\n",
       "      <td>0.395669</td>\n",
       "      <td>0.559211</td>\n",
       "      <td>0.333333</td>\n",
       "      <td>0.504762</td>\n",
       "    </tr>\n",
       "    <tr>\n",
       "      <th>max</th>\n",
       "      <td>1.000000</td>\n",
       "      <td>2.797244</td>\n",
       "      <td>2.447368</td>\n",
       "      <td>4.900000</td>\n",
       "      <td>3.200000</td>\n",
       "    </tr>\n",
       "  </tbody>\n",
       "</table>\n",
       "</div>"
      ],
      "text/plain": [
       "           Rooms     Square  LivSquare  KitSquare      Price\n",
       "count  52.000000  52.000000  52.000000  52.000000  52.000000\n",
       "mean    0.086538   0.016202   0.105162   0.148718   0.198564\n",
       "std     0.450720   0.747101   0.731492   1.090231   0.829182\n",
       "min    -0.500000  -1.297244  -1.131579  -1.000000  -1.030095\n",
       "25%    -0.500000  -0.509843  -0.398684  -0.666667  -0.342857\n",
       "50%     0.000000  -0.057087   0.000000   0.000000   0.019048\n",
       "75%     0.500000   0.395669   0.559211   0.333333   0.504762\n",
       "max     1.000000   2.797244   2.447368   4.900000   3.200000"
      ]
     },
     "execution_count": 90,
     "metadata": {},
     "output_type": "execute_result"
    }
   ],
   "source": [
    "X_test_scaled.describe()"
   ]
  },
  {
   "cell_type": "markdown",
   "id": "e3b6422f",
   "metadata": {},
   "source": [
    "### Понижение размерности пространства"
   ]
  },
  {
   "cell_type": "markdown",
   "id": "3e486b7b",
   "metadata": {},
   "source": [
    "Лучший результат показан при методе PCA dims=2, dims=1 и dims=3 показали хуже результаты, также были опробовано понижение пространства TSNE, где dims=1 ,2,3 соответственно"
   ]
  },
  {
   "cell_type": "code",
   "execution_count": 91,
   "id": "56c1b874",
   "metadata": {},
   "outputs": [
    {
     "data": {
      "text/html": [
       "<div>\n",
       "<style scoped>\n",
       "    .dataframe tbody tr th:only-of-type {\n",
       "        vertical-align: middle;\n",
       "    }\n",
       "\n",
       "    .dataframe tbody tr th {\n",
       "        vertical-align: top;\n",
       "    }\n",
       "\n",
       "    .dataframe thead th {\n",
       "        text-align: right;\n",
       "    }\n",
       "</style>\n",
       "<table border=\"1\" class=\"dataframe\">\n",
       "  <thead>\n",
       "    <tr style=\"text-align: right;\">\n",
       "      <th></th>\n",
       "      <th>component_1</th>\n",
       "      <th>component_2</th>\n",
       "    </tr>\n",
       "  </thead>\n",
       "  <tbody>\n",
       "    <tr>\n",
       "      <th>0</th>\n",
       "      <td>-0.165520</td>\n",
       "      <td>-1.597982</td>\n",
       "    </tr>\n",
       "    <tr>\n",
       "      <th>1</th>\n",
       "      <td>-1.034585</td>\n",
       "      <td>0.812127</td>\n",
       "    </tr>\n",
       "  </tbody>\n",
       "</table>\n",
       "</div>"
      ],
      "text/plain": [
       "   component_1  component_2\n",
       "0    -0.165520    -1.597982\n",
       "1    -1.034585     0.812127"
      ]
     },
     "execution_count": 91,
     "metadata": {},
     "output_type": "execute_result"
    }
   ],
   "source": [
    "dim_reducer2d, components_2d = reduce_dims(X_train_scaled, dims=2, method='pca')\n",
    "components_2d.head(2)"
   ]
  },
  {
   "cell_type": "code",
   "execution_count": 92,
   "id": "30990028",
   "metadata": {},
   "outputs": [
    {
     "data": {
      "image/png": "[encoded data removed]",
      "text/plain": [
       "<Figure size 1000x700 with 2 Axes>"
      ]
     },
     "metadata": {},
     "output_type": "display_data"
    }
   ],
   "source": [
    "display_components_in_2D_space(components_2d, y_train)"
   ]
  },
  {
   "cell_type": "code",
   "execution_count": 93,
   "id": "74eb5642",
   "metadata": {},
   "outputs": [
    {
     "data": {
      "text/html": [
       "<div>\n",
       "<style scoped>\n",
       "    .dataframe tbody tr th:only-of-type {\n",
       "        vertical-align: middle;\n",
       "    }\n",
       "\n",
       "    .dataframe tbody tr th {\n",
       "        vertical-align: top;\n",
       "    }\n",
       "\n",
       "    .dataframe thead th {\n",
       "        text-align: right;\n",
       "    }\n",
       "</style>\n",
       "<table border=\"1\" class=\"dataframe\">\n",
       "  <thead>\n",
       "    <tr style=\"text-align: right;\">\n",
       "      <th></th>\n",
       "      <th>component_1</th>\n",
       "      <th>component_2</th>\n",
       "    </tr>\n",
       "  </thead>\n",
       "  <tbody>\n",
       "    <tr>\n",
       "      <th>0</th>\n",
       "      <td>-0.177655</td>\n",
       "      <td>-0.228569</td>\n",
       "    </tr>\n",
       "    <tr>\n",
       "      <th>1</th>\n",
       "      <td>-0.795888</td>\n",
       "      <td>-0.205163</td>\n",
       "    </tr>\n",
       "  </tbody>\n",
       "</table>\n",
       "</div>"
      ],
      "text/plain": [
       "   component_1  component_2\n",
       "0    -0.177655    -0.228569\n",
       "1    -0.795888    -0.205163"
      ]
     },
     "execution_count": 93,
     "metadata": {},
     "output_type": "execute_result"
    }
   ],
   "source": [
    "dim_reducer2d_test, components_2d_test = reduce_dims(X_test_scaled, dims=2, method='pca')\n",
    "components_2d_test.head(2)"
   ]
  },
  {
   "cell_type": "markdown",
   "id": "91755a36",
   "metadata": {},
   "source": [
    "### Кластеризация "
   ]
  },
  {
   "cell_type": "code",
   "execution_count": 94,
   "id": "4754f97a",
   "metadata": {},
   "outputs": [],
   "source": [
    "from sklearn.metrics import classification_report\n",
    "\n",
    "from sklearn.metrics import confusion_matrix"
   ]
  },
  {
   "cell_type": "markdown",
   "id": "b925bc53",
   "metadata": {},
   "source": [
    "Применим метод \"локтя\", чтобы узнать оптимальное кол-во K"
   ]
  },
  {
   "cell_type": "code",
   "execution_count": 95,
   "id": "f31861cf",
   "metadata": {},
   "outputs": [
    {
     "data": {
      "image/png": "[encoded data removed]",
      "text/plain": [
       "<Figure size 1200x800 with 1 Axes>"
      ]
     },
     "metadata": {},
     "output_type": "display_data"
    }
   ],
   "source": [
    "apply_elbow_method(X_train_scaled)"
   ]
  },
  {
   "cell_type": "markdown",
   "id": "49c15f23",
   "metadata": {},
   "source": [
    "##### Кластеризация Kmeans"
   ]
  },
  {
   "cell_type": "code",
   "execution_count": 96,
   "id": "fd0c86d3",
   "metadata": {},
   "outputs": [
    {
     "data": {
      "image/png": "[encoded data removed]",
      "text/plain": [
       "<Figure size 800x500 with 1 Axes>"
      ]
     },
     "metadata": {},
     "output_type": "display_data"
    }
   ],
   "source": [
    "kmeans = KMeans(n_clusters=4, random_state=42)\n",
    "labels_clast = kmeans.fit_predict(components_2d)\n",
    "labels_clast = pd.Series(labels_clast, name='clusters')\n",
    "labels_clast_test = kmeans.predict(components_2d_test)\n",
    "labels_clast_test = pd.Series(labels_clast_test, name='clusters')\n",
    "\n",
    "unique, counts = np.unique(labels_clast, return_counts=True)\n",
    "display_clusters_distribution(unique, counts)"
   ]
  },
  {
   "cell_type": "code",
   "execution_count": 97,
   "id": "7cd53b21",
   "metadata": {},
   "outputs": [
    {
     "name": "stdout",
     "output_type": "stream",
     "text": [
      "              precision    recall  f1-score   support\n",
      "\n",
      "           0       0.43      0.75      0.55        16\n",
      "           1       0.00      0.00      0.00         6\n",
      "           2       0.00      0.00      0.00        15\n",
      "           3       0.13      0.21      0.16        14\n",
      "           4       0.00      0.00      0.00         1\n",
      "\n",
      "    accuracy                           0.29        52\n",
      "   macro avg       0.11      0.19      0.14        52\n",
      "weighted avg       0.17      0.29      0.21        52\n",
      "\n"
     ]
    }
   ],
   "source": [
    "model = kmeans\n",
    "model.fit(components_2d, y_train)\n",
    "predictions = model.predict(components_2d_test)\n",
    "print(classification_report(y_test, predictions))"
   ]
  },
  {
   "cell_type": "code",
   "execution_count": 98,
   "id": "b7a78060",
   "metadata": {},
   "outputs": [
    {
     "data": {
      "text/plain": [
       "array([3, 0, 0, 3, 3, 3, 3, 0, 0, 3, 0, 3, 0, 0, 3, 0, 3, 3, 3, 3, 3, 0,\n",
       "       3, 3, 0, 3, 3, 0, 0, 0, 3, 0, 0, 2, 3, 0, 2, 3, 2, 0, 3, 3, 0, 0,\n",
       "       3, 0, 3, 3, 3, 3, 3, 3, 0, 0, 0, 0, 0, 0, 0, 3, 3, 3, 0, 3, 3, 3,\n",
       "       3, 0, 3, 1, 0, 3, 0, 3, 0, 3, 0, 0, 0, 3, 3, 3, 3, 3, 1, 0, 3, 0,\n",
       "       3, 3, 0, 0, 0, 0, 3, 0, 0, 0, 3, 0, 0, 3, 0, 0])"
      ]
     },
     "execution_count": 98,
     "metadata": {},
     "output_type": "execute_result"
    }
   ],
   "source": [
    "model.labels_"
   ]
  },
  {
   "cell_type": "code",
   "execution_count": 99,
   "id": "d0d7196d",
   "metadata": {},
   "outputs": [],
   "source": [
    "predict_answers=model.labels_"
   ]
  },
  {
   "cell_type": "markdown",
   "id": "8b277ea0",
   "metadata": {},
   "source": [
    "Получили датасет с предсказанными данными"
   ]
  },
  {
   "cell_type": "code",
   "execution_count": 100,
   "id": "5fd71a01",
   "metadata": {},
   "outputs": [
    {
     "data": {
      "text/html": [
       "<div>\n",
       "<style scoped>\n",
       "    .dataframe tbody tr th:only-of-type {\n",
       "        vertical-align: middle;\n",
       "    }\n",
       "\n",
       "    .dataframe tbody tr th {\n",
       "        vertical-align: top;\n",
       "    }\n",
       "\n",
       "    .dataframe thead th {\n",
       "        text-align: right;\n",
       "    }\n",
       "</style>\n",
       "<table border=\"1\" class=\"dataframe\">\n",
       "  <thead>\n",
       "    <tr style=\"text-align: right;\">\n",
       "      <th></th>\n",
       "      <th>Rooms</th>\n",
       "      <th>Square</th>\n",
       "      <th>LivSquare</th>\n",
       "      <th>KitSquare</th>\n",
       "      <th>Price</th>\n",
       "      <th>District</th>\n",
       "    </tr>\n",
       "  </thead>\n",
       "  <tbody>\n",
       "    <tr>\n",
       "      <th>27</th>\n",
       "      <td>1</td>\n",
       "      <td>33.8</td>\n",
       "      <td>20.0</td>\n",
       "      <td>10.0</td>\n",
       "      <td>1690000</td>\n",
       "      <td>3</td>\n",
       "    </tr>\n",
       "    <tr>\n",
       "      <th>118</th>\n",
       "      <td>3</td>\n",
       "      <td>62.0</td>\n",
       "      <td>44.0</td>\n",
       "      <td>6.0</td>\n",
       "      <td>3150000</td>\n",
       "      <td>2</td>\n",
       "    </tr>\n",
       "    <tr>\n",
       "      <th>117</th>\n",
       "      <td>3</td>\n",
       "      <td>62.0</td>\n",
       "      <td>38.0</td>\n",
       "      <td>7.5</td>\n",
       "      <td>3650000</td>\n",
       "      <td>2</td>\n",
       "    </tr>\n",
       "    <tr>\n",
       "      <th>41</th>\n",
       "      <td>1</td>\n",
       "      <td>43.0</td>\n",
       "      <td>32.0</td>\n",
       "      <td>6.0</td>\n",
       "      <td>1700000</td>\n",
       "      <td>1</td>\n",
       "    </tr>\n",
       "    <tr>\n",
       "      <th>4</th>\n",
       "      <td>1</td>\n",
       "      <td>30.0</td>\n",
       "      <td>17.0</td>\n",
       "      <td>6.0</td>\n",
       "      <td>1490000</td>\n",
       "      <td>2</td>\n",
       "    </tr>\n",
       "  </tbody>\n",
       "</table>\n",
       "</div>"
      ],
      "text/plain": [
       "     Rooms  Square  LivSquare  KitSquare    Price  District\n",
       "27       1    33.8       20.0       10.0  1690000         3\n",
       "118      3    62.0       44.0        6.0  3150000         2\n",
       "117      3    62.0       38.0        7.5  3650000         2\n",
       "41       1    43.0       32.0        6.0  1700000         1\n",
       "4        1    30.0       17.0        6.0  1490000         2"
      ]
     },
     "execution_count": 100,
     "metadata": {},
     "output_type": "execute_result"
    }
   ],
   "source": [
    "DATASET= pd.concat([X_train, y_train], axis=1, join='inner')\n",
    "DATASET.head()"
   ]
  },
  {
   "cell_type": "markdown",
   "id": "0730a943",
   "metadata": {},
   "source": [
    "Добавим столбец с предсказанными районами"
   ]
  },
  {
   "cell_type": "code",
   "execution_count": 101,
   "id": "d80af842",
   "metadata": {},
   "outputs": [
    {
     "data": {
      "text/html": [
       "<div>\n",
       "<style scoped>\n",
       "    .dataframe tbody tr th:only-of-type {\n",
       "        vertical-align: middle;\n",
       "    }\n",
       "\n",
       "    .dataframe tbody tr th {\n",
       "        vertical-align: top;\n",
       "    }\n",
       "\n",
       "    .dataframe thead th {\n",
       "        text-align: right;\n",
       "    }\n",
       "</style>\n",
       "<table border=\"1\" class=\"dataframe\">\n",
       "  <thead>\n",
       "    <tr style=\"text-align: right;\">\n",
       "      <th></th>\n",
       "      <th>Rooms</th>\n",
       "      <th>Square</th>\n",
       "      <th>LivSquare</th>\n",
       "      <th>KitSquare</th>\n",
       "      <th>Price</th>\n",
       "      <th>District</th>\n",
       "      <th>Answers</th>\n",
       "    </tr>\n",
       "  </thead>\n",
       "  <tbody>\n",
       "    <tr>\n",
       "      <th>27</th>\n",
       "      <td>1</td>\n",
       "      <td>33.8</td>\n",
       "      <td>20.0</td>\n",
       "      <td>10.0</td>\n",
       "      <td>1690000</td>\n",
       "      <td>3</td>\n",
       "      <td>3</td>\n",
       "    </tr>\n",
       "    <tr>\n",
       "      <th>118</th>\n",
       "      <td>3</td>\n",
       "      <td>62.0</td>\n",
       "      <td>44.0</td>\n",
       "      <td>6.0</td>\n",
       "      <td>3150000</td>\n",
       "      <td>2</td>\n",
       "      <td>0</td>\n",
       "    </tr>\n",
       "    <tr>\n",
       "      <th>117</th>\n",
       "      <td>3</td>\n",
       "      <td>62.0</td>\n",
       "      <td>38.0</td>\n",
       "      <td>7.5</td>\n",
       "      <td>3650000</td>\n",
       "      <td>2</td>\n",
       "      <td>0</td>\n",
       "    </tr>\n",
       "    <tr>\n",
       "      <th>41</th>\n",
       "      <td>1</td>\n",
       "      <td>43.0</td>\n",
       "      <td>32.0</td>\n",
       "      <td>6.0</td>\n",
       "      <td>1700000</td>\n",
       "      <td>1</td>\n",
       "      <td>3</td>\n",
       "    </tr>\n",
       "    <tr>\n",
       "      <th>4</th>\n",
       "      <td>1</td>\n",
       "      <td>30.0</td>\n",
       "      <td>17.0</td>\n",
       "      <td>6.0</td>\n",
       "      <td>1490000</td>\n",
       "      <td>2</td>\n",
       "      <td>3</td>\n",
       "    </tr>\n",
       "  </tbody>\n",
       "</table>\n",
       "</div>"
      ],
      "text/plain": [
       "     Rooms  Square  LivSquare  KitSquare    Price  District  Answers\n",
       "27       1    33.8       20.0       10.0  1690000         3        3\n",
       "118      3    62.0       44.0        6.0  3150000         2        0\n",
       "117      3    62.0       38.0        7.5  3650000         2        0\n",
       "41       1    43.0       32.0        6.0  1700000         1        3\n",
       "4        1    30.0       17.0        6.0  1490000         2        3"
      ]
     },
     "execution_count": 101,
     "metadata": {},
     "output_type": "execute_result"
    }
   ],
   "source": [
    "DATASET['Answers'] = predict_answers\n",
    "DATASET.head()"
   ]
  },
  {
   "cell_type": "code",
   "execution_count": 102,
   "id": "6560829a",
   "metadata": {},
   "outputs": [
    {
     "data": {
      "text/html": [
       "<div>\n",
       "<style scoped>\n",
       "    .dataframe tbody tr th:only-of-type {\n",
       "        vertical-align: middle;\n",
       "    }\n",
       "\n",
       "    .dataframe tbody tr th {\n",
       "        vertical-align: top;\n",
       "    }\n",
       "\n",
       "    .dataframe thead th {\n",
       "        text-align: right;\n",
       "    }\n",
       "</style>\n",
       "<table border=\"1\" class=\"dataframe\">\n",
       "  <thead>\n",
       "    <tr style=\"text-align: right;\">\n",
       "      <th></th>\n",
       "      <th>Rooms</th>\n",
       "      <th>Square</th>\n",
       "      <th>LivSquare</th>\n",
       "      <th>KitSquare</th>\n",
       "      <th>Price</th>\n",
       "      <th>District</th>\n",
       "      <th>Answers</th>\n",
       "      <th>diff</th>\n",
       "    </tr>\n",
       "  </thead>\n",
       "  <tbody>\n",
       "    <tr>\n",
       "      <th>27</th>\n",
       "      <td>1</td>\n",
       "      <td>33.8</td>\n",
       "      <td>20.0</td>\n",
       "      <td>10.0</td>\n",
       "      <td>1690000</td>\n",
       "      <td>Ленинский</td>\n",
       "      <td>Ленинский</td>\n",
       "      <td>True</td>\n",
       "    </tr>\n",
       "    <tr>\n",
       "      <th>118</th>\n",
       "      <td>3</td>\n",
       "      <td>62.0</td>\n",
       "      <td>44.0</td>\n",
       "      <td>6.0</td>\n",
       "      <td>3150000</td>\n",
       "      <td>Правобережный</td>\n",
       "      <td>Орджоникидзевский</td>\n",
       "      <td>False</td>\n",
       "    </tr>\n",
       "    <tr>\n",
       "      <th>117</th>\n",
       "      <td>3</td>\n",
       "      <td>62.0</td>\n",
       "      <td>38.0</td>\n",
       "      <td>7.5</td>\n",
       "      <td>3650000</td>\n",
       "      <td>Правобережный</td>\n",
       "      <td>Орджоникидзевский</td>\n",
       "      <td>False</td>\n",
       "    </tr>\n",
       "    <tr>\n",
       "      <th>41</th>\n",
       "      <td>1</td>\n",
       "      <td>43.0</td>\n",
       "      <td>32.0</td>\n",
       "      <td>6.0</td>\n",
       "      <td>1700000</td>\n",
       "      <td>Орджоникидзевский (левый берег)</td>\n",
       "      <td>Ленинский</td>\n",
       "      <td>False</td>\n",
       "    </tr>\n",
       "    <tr>\n",
       "      <th>4</th>\n",
       "      <td>1</td>\n",
       "      <td>30.0</td>\n",
       "      <td>17.0</td>\n",
       "      <td>6.0</td>\n",
       "      <td>1490000</td>\n",
       "      <td>Правобережный</td>\n",
       "      <td>Ленинский</td>\n",
       "      <td>False</td>\n",
       "    </tr>\n",
       "    <tr>\n",
       "      <th>32</th>\n",
       "      <td>1</td>\n",
       "      <td>29.7</td>\n",
       "      <td>17.0</td>\n",
       "      <td>5.0</td>\n",
       "      <td>1290000</td>\n",
       "      <td>Правобережный</td>\n",
       "      <td>Ленинский</td>\n",
       "      <td>False</td>\n",
       "    </tr>\n",
       "    <tr>\n",
       "      <th>85</th>\n",
       "      <td>2</td>\n",
       "      <td>54.7</td>\n",
       "      <td>40.0</td>\n",
       "      <td>8.0</td>\n",
       "      <td>2100000</td>\n",
       "      <td>Орджоникидзевский (левый берег)</td>\n",
       "      <td>Ленинский</td>\n",
       "      <td>False</td>\n",
       "    </tr>\n",
       "    <tr>\n",
       "      <th>122</th>\n",
       "      <td>3</td>\n",
       "      <td>62.0</td>\n",
       "      <td>44.0</td>\n",
       "      <td>6.0</td>\n",
       "      <td>3000000</td>\n",
       "      <td>Правобережный</td>\n",
       "      <td>Орджоникидзевский</td>\n",
       "      <td>False</td>\n",
       "    </tr>\n",
       "    <tr>\n",
       "      <th>65</th>\n",
       "      <td>2</td>\n",
       "      <td>51.5</td>\n",
       "      <td>33.5</td>\n",
       "      <td>9.0</td>\n",
       "      <td>3550000</td>\n",
       "      <td>Орджоникидзевский</td>\n",
       "      <td>Орджоникидзевский</td>\n",
       "      <td>True</td>\n",
       "    </tr>\n",
       "    <tr>\n",
       "      <th>16</th>\n",
       "      <td>1</td>\n",
       "      <td>32.9</td>\n",
       "      <td>19.0</td>\n",
       "      <td>5.0</td>\n",
       "      <td>2000000</td>\n",
       "      <td>Ленинский</td>\n",
       "      <td>Ленинский</td>\n",
       "      <td>True</td>\n",
       "    </tr>\n",
       "  </tbody>\n",
       "</table>\n",
       "</div>"
      ],
      "text/plain": [
       "     Rooms  Square  LivSquare  KitSquare    Price  \\\n",
       "27       1    33.8       20.0       10.0  1690000   \n",
       "118      3    62.0       44.0        6.0  3150000   \n",
       "117      3    62.0       38.0        7.5  3650000   \n",
       "41       1    43.0       32.0        6.0  1700000   \n",
       "4        1    30.0       17.0        6.0  1490000   \n",
       "32       1    29.7       17.0        5.0  1290000   \n",
       "85       2    54.7       40.0        8.0  2100000   \n",
       "122      3    62.0       44.0        6.0  3000000   \n",
       "65       2    51.5       33.5        9.0  3550000   \n",
       "16       1    32.9       19.0        5.0  2000000   \n",
       "\n",
       "                            District            Answers   diff  \n",
       "27                         Ленинский          Ленинский   True  \n",
       "118                    Правобережный  Орджоникидзевский  False  \n",
       "117                    Правобережный  Орджоникидзевский  False  \n",
       "41   Орджоникидзевский (левый берег)          Ленинский  False  \n",
       "4                      Правобережный          Ленинский  False  \n",
       "32                     Правобережный          Ленинский  False  \n",
       "85   Орджоникидзевский (левый берег)          Ленинский  False  \n",
       "122                    Правобережный  Орджоникидзевский  False  \n",
       "65                 Орджоникидзевский  Орджоникидзевский   True  \n",
       "16                         Ленинский          Ленинский   True  "
      ]
     },
     "execution_count": 102,
     "metadata": {},
     "output_type": "execute_result"
    }
   ],
   "source": [
    "DATASET['diff']=(DATASET['District'])==(DATASET['Answers'])\n",
    "DATASET.District[DATASET.District == 0]='Орджоникидзевский'\n",
    "DATASET.District[DATASET.District == 1]='Орджоникидзевский (левый берег)'\n",
    "DATASET.District[DATASET.District == 2]='Правобережный'\n",
    "DATASET.District[DATASET.District == 3]='Ленинский'\n",
    "DATASET.District[DATASET.District == 4]='Ленинский(Левый берег)'                \n",
    "DATASET.Answers[DATASET.Answers == 0]='Орджоникидзевский'\n",
    "DATASET.Answers[DATASET.Answers == 1]='Орджоникидзевский (левый берег)'\n",
    "DATASET.Answers[DATASET.Answers == 2]='Правобережный'\n",
    "DATASET.Answers[DATASET.Answers == 3]='Ленинский'\n",
    "DATASET.Answers[DATASET.Answers == 4]='Ленинский(Левый берег)'\n",
    "DATASET.head(10)"
   ]
  },
  {
   "cell_type": "code",
   "execution_count": 103,
   "id": "d8502c5d",
   "metadata": {},
   "outputs": [
    {
     "data": {
      "text/plain": [
       "False    68\n",
       "True     36\n",
       "Name: diff, dtype: int64"
      ]
     },
     "execution_count": 103,
     "metadata": {},
     "output_type": "execute_result"
    }
   ],
   "source": [
    "DATASET['diff'].value_counts()"
   ]
  },
  {
   "cell_type": "code",
   "execution_count": 104,
   "id": "75a95ef1",
   "metadata": {},
   "outputs": [
    {
     "data": {
      "text/plain": [
       "False    0.653846\n",
       "True     0.346154\n",
       "Name: diff, dtype: float64"
      ]
     },
     "execution_count": 104,
     "metadata": {},
     "output_type": "execute_result"
    }
   ],
   "source": [
    "DATASET['diff'].value_counts('True')"
   ]
  },
  {
   "cell_type": "markdown",
   "id": "1e495321",
   "metadata": {},
   "source": [
    "##### Вывод: Модель предсказывает с вероятностью 34%. Этому есть объяснение, т.к. модель не может четко разделить данные на кластеры и объективно разницы между квартирами особо нет, диапазон цен по кол-ву комнат и площади примерно одинаковый. Также был проведен подобный анализ с наибольшим и наименьшим кол-во признаков, данный набор оптимален по предсказанию"
   ]
  },
  {
   "cell_type": "code",
   "execution_count": 105,
   "id": "2efd1bdb",
   "metadata": {
    "scrolled": true
   },
   "outputs": [
    {
     "data": {
      "text/html": [
       "<div>\n",
       "<style scoped>\n",
       "    .dataframe tbody tr th:only-of-type {\n",
       "        vertical-align: middle;\n",
       "    }\n",
       "\n",
       "    .dataframe tbody tr th {\n",
       "        vertical-align: top;\n",
       "    }\n",
       "\n",
       "    .dataframe thead th {\n",
       "        text-align: right;\n",
       "    }\n",
       "</style>\n",
       "<table border=\"1\" class=\"dataframe\">\n",
       "  <thead>\n",
       "    <tr style=\"text-align: right;\">\n",
       "      <th></th>\n",
       "      <th>Rooms</th>\n",
       "      <th>Square</th>\n",
       "      <th>LivSquare</th>\n",
       "      <th>KitSquare</th>\n",
       "      <th>Price</th>\n",
       "      <th>District</th>\n",
       "      <th>Answers</th>\n",
       "      <th>diff</th>\n",
       "    </tr>\n",
       "  </thead>\n",
       "  <tbody>\n",
       "    <tr>\n",
       "      <th>27</th>\n",
       "      <td>1</td>\n",
       "      <td>33.8</td>\n",
       "      <td>20.0</td>\n",
       "      <td>10.0</td>\n",
       "      <td>1690000</td>\n",
       "      <td>Ленинский</td>\n",
       "      <td>Ленинский</td>\n",
       "      <td>True</td>\n",
       "    </tr>\n",
       "    <tr>\n",
       "      <th>41</th>\n",
       "      <td>1</td>\n",
       "      <td>43.0</td>\n",
       "      <td>32.0</td>\n",
       "      <td>6.0</td>\n",
       "      <td>1700000</td>\n",
       "      <td>Орджоникидзевский (левый берег)</td>\n",
       "      <td>Ленинский</td>\n",
       "      <td>False</td>\n",
       "    </tr>\n",
       "    <tr>\n",
       "      <th>4</th>\n",
       "      <td>1</td>\n",
       "      <td>30.0</td>\n",
       "      <td>17.0</td>\n",
       "      <td>6.0</td>\n",
       "      <td>1490000</td>\n",
       "      <td>Правобережный</td>\n",
       "      <td>Ленинский</td>\n",
       "      <td>False</td>\n",
       "    </tr>\n",
       "    <tr>\n",
       "      <th>32</th>\n",
       "      <td>1</td>\n",
       "      <td>29.7</td>\n",
       "      <td>17.0</td>\n",
       "      <td>5.0</td>\n",
       "      <td>1290000</td>\n",
       "      <td>Правобережный</td>\n",
       "      <td>Ленинский</td>\n",
       "      <td>False</td>\n",
       "    </tr>\n",
       "    <tr>\n",
       "      <th>16</th>\n",
       "      <td>1</td>\n",
       "      <td>32.9</td>\n",
       "      <td>19.0</td>\n",
       "      <td>5.0</td>\n",
       "      <td>2000000</td>\n",
       "      <td>Ленинский</td>\n",
       "      <td>Ленинский</td>\n",
       "      <td>True</td>\n",
       "    </tr>\n",
       "  </tbody>\n",
       "</table>\n",
       "</div>"
      ],
      "text/plain": [
       "    Rooms  Square  LivSquare  KitSquare    Price  \\\n",
       "27      1    33.8       20.0       10.0  1690000   \n",
       "41      1    43.0       32.0        6.0  1700000   \n",
       "4       1    30.0       17.0        6.0  1490000   \n",
       "32      1    29.7       17.0        5.0  1290000   \n",
       "16      1    32.9       19.0        5.0  2000000   \n",
       "\n",
       "                           District    Answers   diff  \n",
       "27                        Ленинский  Ленинский   True  \n",
       "41  Орджоникидзевский (левый берег)  Ленинский  False  \n",
       "4                     Правобережный  Ленинский  False  \n",
       "32                    Правобережный  Ленинский  False  \n",
       "16                        Ленинский  Ленинский   True  "
      ]
     },
     "execution_count": 105,
     "metadata": {},
     "output_type": "execute_result"
    }
   ],
   "source": [
    "rooms_1=pd.DataFrame(DATASET.loc[DATASET['Rooms'] == 1])\n",
    "rooms_1.head()"
   ]
  },
  {
   "cell_type": "markdown",
   "id": "6550b81f",
   "metadata": {},
   "source": [
    "##### Изучим какие варианты модель предсказывает лучше всего"
   ]
  },
  {
   "cell_type": "code",
   "execution_count": 106,
   "id": "0db4da3c",
   "metadata": {},
   "outputs": [
    {
     "data": {
      "text/plain": [
       "False    0.580645\n",
       "True     0.419355\n",
       "Name: diff, dtype: float64"
      ]
     },
     "execution_count": 106,
     "metadata": {},
     "output_type": "execute_result"
    }
   ],
   "source": [
    "rooms_1['diff'].value_counts('True')"
   ]
  },
  {
   "cell_type": "code",
   "execution_count": 107,
   "id": "98321225",
   "metadata": {},
   "outputs": [
    {
     "data": {
      "text/plain": [
       "False    0.75\n",
       "True     0.25\n",
       "Name: diff, dtype: float64"
      ]
     },
     "execution_count": 107,
     "metadata": {},
     "output_type": "execute_result"
    }
   ],
   "source": [
    "rooms_2=pd.DataFrame(DATASET.loc[DATASET['Rooms'] == 2])\n",
    "rooms_2['diff'].value_counts('True')"
   ]
  },
  {
   "cell_type": "code",
   "execution_count": 108,
   "id": "fa044eb3",
   "metadata": {},
   "outputs": [
    {
     "data": {
      "text/plain": [
       "False    0.703704\n",
       "True     0.296296\n",
       "Name: diff, dtype: float64"
      ]
     },
     "execution_count": 108,
     "metadata": {},
     "output_type": "execute_result"
    }
   ],
   "source": [
    "rooms_3=pd.DataFrame(DATASET.loc[DATASET['Rooms'] == 3])\n",
    "rooms_3['diff'].value_counts('True')"
   ]
  },
  {
   "cell_type": "code",
   "execution_count": 109,
   "id": "c7c7c417",
   "metadata": {},
   "outputs": [
    {
     "data": {
      "text/plain": [
       "True     0.5\n",
       "False    0.5\n",
       "Name: diff, dtype: float64"
      ]
     },
     "execution_count": 109,
     "metadata": {},
     "output_type": "execute_result"
    }
   ],
   "source": [
    "rooms_4=pd.DataFrame(DATASET.loc[DATASET['Rooms'] == 4])\n",
    "rooms_4['diff'].value_counts('True')"
   ]
  },
  {
   "cell_type": "code",
   "execution_count": 110,
   "id": "5a230f35",
   "metadata": {},
   "outputs": [
    {
     "data": {
      "text/html": [
       "<div>\n",
       "<style scoped>\n",
       "    .dataframe tbody tr th:only-of-type {\n",
       "        vertical-align: middle;\n",
       "    }\n",
       "\n",
       "    .dataframe tbody tr th {\n",
       "        vertical-align: top;\n",
       "    }\n",
       "\n",
       "    .dataframe thead th {\n",
       "        text-align: right;\n",
       "    }\n",
       "</style>\n",
       "<table border=\"1\" class=\"dataframe\">\n",
       "  <thead>\n",
       "    <tr style=\"text-align: right;\">\n",
       "      <th></th>\n",
       "      <th>Rooms</th>\n",
       "      <th>Square</th>\n",
       "      <th>LivSquare</th>\n",
       "      <th>KitSquare</th>\n",
       "      <th>Price</th>\n",
       "      <th>District</th>\n",
       "      <th>Answers</th>\n",
       "      <th>diff</th>\n",
       "    </tr>\n",
       "  </thead>\n",
       "  <tbody>\n",
       "    <tr>\n",
       "      <th>148</th>\n",
       "      <td>4</td>\n",
       "      <td>73.9</td>\n",
       "      <td>52.0</td>\n",
       "      <td>9.0</td>\n",
       "      <td>5100000</td>\n",
       "      <td>Орджоникидзевский</td>\n",
       "      <td>Орджоникидзевский</td>\n",
       "      <td>True</td>\n",
       "    </tr>\n",
       "    <tr>\n",
       "      <th>149</th>\n",
       "      <td>4</td>\n",
       "      <td>82.0</td>\n",
       "      <td>33.5</td>\n",
       "      <td>8.0</td>\n",
       "      <td>4500000</td>\n",
       "      <td>Ленинский</td>\n",
       "      <td>Орджоникидзевский</td>\n",
       "      <td>False</td>\n",
       "    </tr>\n",
       "    <tr>\n",
       "      <th>144</th>\n",
       "      <td>4</td>\n",
       "      <td>61.0</td>\n",
       "      <td>45.0</td>\n",
       "      <td>7.0</td>\n",
       "      <td>4500000</td>\n",
       "      <td>Орджоникидзевский</td>\n",
       "      <td>Орджоникидзевский</td>\n",
       "      <td>True</td>\n",
       "    </tr>\n",
       "    <tr>\n",
       "      <th>151</th>\n",
       "      <td>4</td>\n",
       "      <td>75.0</td>\n",
       "      <td>58.0</td>\n",
       "      <td>9.0</td>\n",
       "      <td>4890000</td>\n",
       "      <td>Орджоникидзевский</td>\n",
       "      <td>Орджоникидзевский</td>\n",
       "      <td>True</td>\n",
       "    </tr>\n",
       "    <tr>\n",
       "      <th>142</th>\n",
       "      <td>4</td>\n",
       "      <td>61.0</td>\n",
       "      <td>33.5</td>\n",
       "      <td>8.0</td>\n",
       "      <td>3300000</td>\n",
       "      <td>Правобережный</td>\n",
       "      <td>Орджоникидзевский</td>\n",
       "      <td>False</td>\n",
       "    </tr>\n",
       "  </tbody>\n",
       "</table>\n",
       "</div>"
      ],
      "text/plain": [
       "     Rooms  Square  LivSquare  KitSquare    Price           District  \\\n",
       "148      4    73.9       52.0        9.0  5100000  Орджоникидзевский   \n",
       "149      4    82.0       33.5        8.0  4500000          Ленинский   \n",
       "144      4    61.0       45.0        7.0  4500000  Орджоникидзевский   \n",
       "151      4    75.0       58.0        9.0  4890000  Орджоникидзевский   \n",
       "142      4    61.0       33.5        8.0  3300000      Правобережный   \n",
       "\n",
       "               Answers   diff  \n",
       "148  Орджоникидзевский   True  \n",
       "149  Орджоникидзевский  False  \n",
       "144  Орджоникидзевский   True  \n",
       "151  Орджоникидзевский   True  \n",
       "142  Орджоникидзевский  False  "
      ]
     },
     "execution_count": 110,
     "metadata": {},
     "output_type": "execute_result"
    }
   ],
   "source": [
    "rooms_4.head()"
   ]
  },
  {
   "cell_type": "code",
   "execution_count": 111,
   "id": "d50009b3",
   "metadata": {},
   "outputs": [
    {
     "data": {
      "text/plain": [
       "True     0.558824\n",
       "False    0.441176\n",
       "Name: diff, dtype: float64"
      ]
     },
     "execution_count": 111,
     "metadata": {},
     "output_type": "execute_result"
    }
   ],
   "source": [
    "lenin=pd.DataFrame(DATASET.loc[DATASET['District'] == 'Ленинский'])\n",
    "lenin['diff'].value_counts('True')"
   ]
  },
  {
   "cell_type": "code",
   "execution_count": 112,
   "id": "5bbc1f51",
   "metadata": {},
   "outputs": [
    {
     "data": {
      "text/plain": [
       "False    1.0\n",
       "Name: diff, dtype: float64"
      ]
     },
     "execution_count": 112,
     "metadata": {},
     "output_type": "execute_result"
    }
   ],
   "source": [
    "lenin_left=pd.DataFrame(DATASET.loc[DATASET['District'] == 'Ленинский(Левый берег)'])\n",
    "lenin_left['diff'].value_counts('True')"
   ]
  },
  {
   "cell_type": "code",
   "execution_count": 113,
   "id": "c451c28d",
   "metadata": {},
   "outputs": [
    {
     "data": {
      "text/plain": [
       "True     0.727273\n",
       "False    0.272727\n",
       "Name: diff, dtype: float64"
      ]
     },
     "execution_count": 113,
     "metadata": {},
     "output_type": "execute_result"
    }
   ],
   "source": [
    "ordjo=pd.DataFrame(DATASET.loc[DATASET['District'] == 'Орджоникидзевский'])\n",
    "ordjo['diff'].value_counts('True')"
   ]
  },
  {
   "cell_type": "code",
   "execution_count": 114,
   "id": "4f56804c",
   "metadata": {},
   "outputs": [
    {
     "data": {
      "text/plain": [
       "False    1.0\n",
       "Name: diff, dtype: float64"
      ]
     },
     "execution_count": 114,
     "metadata": {},
     "output_type": "execute_result"
    }
   ],
   "source": [
    "ordjo_left=pd.DataFrame(DATASET.loc[DATASET['District'] == 'Орджоникидзевский (левый берег)'])\n",
    "ordjo_left['diff'].value_counts('True')"
   ]
  },
  {
   "cell_type": "code",
   "execution_count": 115,
   "id": "bbd1d9ae",
   "metadata": {},
   "outputs": [
    {
     "data": {
      "text/plain": [
       "False    0.964286\n",
       "True     0.035714\n",
       "Name: diff, dtype: float64"
      ]
     },
     "execution_count": 115,
     "metadata": {},
     "output_type": "execute_result"
    }
   ],
   "source": [
    "pravober=pd.DataFrame(DATASET.loc[DATASET['District'] == 'Правобережный'])\n",
    "pravober['diff'].value_counts('True')"
   ]
  },
  {
   "cell_type": "markdown",
   "id": "fc95b3fc",
   "metadata": {},
   "source": [
    "##### Лучше всего предсказывает Ленинский район  1 комнатные квартиры и Орджоникидзевский район 4 комнатные квартиры"
   ]
  },
  {
   "cell_type": "code",
   "execution_count": 116,
   "id": "4e67c7e7",
   "metadata": {},
   "outputs": [
    {
     "data": {
      "text/html": [
       "<div>\n",
       "<style scoped>\n",
       "    .dataframe tbody tr th:only-of-type {\n",
       "        vertical-align: middle;\n",
       "    }\n",
       "\n",
       "    .dataframe tbody tr th {\n",
       "        vertical-align: top;\n",
       "    }\n",
       "\n",
       "    .dataframe thead th {\n",
       "        text-align: right;\n",
       "    }\n",
       "</style>\n",
       "<table border=\"1\" class=\"dataframe\">\n",
       "  <thead>\n",
       "    <tr style=\"text-align: right;\">\n",
       "      <th></th>\n",
       "      <th>Rooms</th>\n",
       "      <th>Square</th>\n",
       "      <th>LivSquare</th>\n",
       "      <th>KitSquare</th>\n",
       "      <th>Price</th>\n",
       "      <th>District</th>\n",
       "      <th>Answers</th>\n",
       "      <th>diff</th>\n",
       "    </tr>\n",
       "  </thead>\n",
       "  <tbody>\n",
       "    <tr>\n",
       "      <th>27</th>\n",
       "      <td>1</td>\n",
       "      <td>33.8</td>\n",
       "      <td>20.0</td>\n",
       "      <td>10.0</td>\n",
       "      <td>1690000</td>\n",
       "      <td>Ленинский</td>\n",
       "      <td>Ленинский</td>\n",
       "      <td>True</td>\n",
       "    </tr>\n",
       "    <tr>\n",
       "      <th>16</th>\n",
       "      <td>1</td>\n",
       "      <td>32.9</td>\n",
       "      <td>19.0</td>\n",
       "      <td>5.0</td>\n",
       "      <td>2000000</td>\n",
       "      <td>Ленинский</td>\n",
       "      <td>Ленинский</td>\n",
       "      <td>True</td>\n",
       "    </tr>\n",
       "    <tr>\n",
       "      <th>28</th>\n",
       "      <td>1</td>\n",
       "      <td>30.0</td>\n",
       "      <td>19.0</td>\n",
       "      <td>6.0</td>\n",
       "      <td>1600000</td>\n",
       "      <td>Ленинский</td>\n",
       "      <td>Ленинский</td>\n",
       "      <td>True</td>\n",
       "    </tr>\n",
       "    <tr>\n",
       "      <th>25</th>\n",
       "      <td>1</td>\n",
       "      <td>20.6</td>\n",
       "      <td>20.6</td>\n",
       "      <td>20.6</td>\n",
       "      <td>1133000</td>\n",
       "      <td>Ленинский</td>\n",
       "      <td>Ленинский</td>\n",
       "      <td>True</td>\n",
       "    </tr>\n",
       "    <tr>\n",
       "      <th>23</th>\n",
       "      <td>1</td>\n",
       "      <td>41.6</td>\n",
       "      <td>25.0</td>\n",
       "      <td>10.0</td>\n",
       "      <td>2496000</td>\n",
       "      <td>Ленинский</td>\n",
       "      <td>Ленинский</td>\n",
       "      <td>True</td>\n",
       "    </tr>\n",
       "  </tbody>\n",
       "</table>\n",
       "</div>"
      ],
      "text/plain": [
       "    Rooms  Square  LivSquare  KitSquare    Price   District    Answers  diff\n",
       "27      1    33.8       20.0       10.0  1690000  Ленинский  Ленинский  True\n",
       "16      1    32.9       19.0        5.0  2000000  Ленинский  Ленинский  True\n",
       "28      1    30.0       19.0        6.0  1600000  Ленинский  Ленинский  True\n",
       "25      1    20.6       20.6       20.6  1133000  Ленинский  Ленинский  True\n",
       "23      1    41.6       25.0       10.0  2496000  Ленинский  Ленинский  True"
      ]
     },
     "execution_count": 116,
     "metadata": {},
     "output_type": "execute_result"
    }
   ],
   "source": [
    "lenin_1_room=pd.DataFrame(DATASET.loc[(DATASET['District'] == 'Ленинский')&(DATASET['Rooms'] == 1)])\n",
    "lenin_1_room.head(5)"
   ]
  },
  {
   "cell_type": "code",
   "execution_count": 117,
   "id": "39d0a6a9",
   "metadata": {},
   "outputs": [
    {
     "data": {
      "text/plain": [
       "True     0.928571\n",
       "False    0.071429\n",
       "Name: diff, dtype: float64"
      ]
     },
     "execution_count": 117,
     "metadata": {},
     "output_type": "execute_result"
    }
   ],
   "source": [
    "lenin_1_room['diff'].value_counts('True')"
   ]
  },
  {
   "cell_type": "code",
   "execution_count": 118,
   "id": "ad898fda",
   "metadata": {},
   "outputs": [
    {
     "data": {
      "text/html": [
       "<div>\n",
       "<style scoped>\n",
       "    .dataframe tbody tr th:only-of-type {\n",
       "        vertical-align: middle;\n",
       "    }\n",
       "\n",
       "    .dataframe tbody tr th {\n",
       "        vertical-align: top;\n",
       "    }\n",
       "\n",
       "    .dataframe thead th {\n",
       "        text-align: right;\n",
       "    }\n",
       "</style>\n",
       "<table border=\"1\" class=\"dataframe\">\n",
       "  <thead>\n",
       "    <tr style=\"text-align: right;\">\n",
       "      <th></th>\n",
       "      <th>Rooms</th>\n",
       "      <th>Square</th>\n",
       "      <th>LivSquare</th>\n",
       "      <th>KitSquare</th>\n",
       "      <th>Price</th>\n",
       "      <th>District</th>\n",
       "      <th>Answers</th>\n",
       "      <th>diff</th>\n",
       "    </tr>\n",
       "  </thead>\n",
       "  <tbody>\n",
       "    <tr>\n",
       "      <th>148</th>\n",
       "      <td>4</td>\n",
       "      <td>73.9</td>\n",
       "      <td>52.0</td>\n",
       "      <td>9.0</td>\n",
       "      <td>5100000</td>\n",
       "      <td>Орджоникидзевский</td>\n",
       "      <td>Орджоникидзевский</td>\n",
       "      <td>True</td>\n",
       "    </tr>\n",
       "    <tr>\n",
       "      <th>144</th>\n",
       "      <td>4</td>\n",
       "      <td>61.0</td>\n",
       "      <td>45.0</td>\n",
       "      <td>7.0</td>\n",
       "      <td>4500000</td>\n",
       "      <td>Орджоникидзевский</td>\n",
       "      <td>Орджоникидзевский</td>\n",
       "      <td>True</td>\n",
       "    </tr>\n",
       "    <tr>\n",
       "      <th>151</th>\n",
       "      <td>4</td>\n",
       "      <td>75.0</td>\n",
       "      <td>58.0</td>\n",
       "      <td>9.0</td>\n",
       "      <td>4890000</td>\n",
       "      <td>Орджоникидзевский</td>\n",
       "      <td>Орджоникидзевский</td>\n",
       "      <td>True</td>\n",
       "    </tr>\n",
       "    <tr>\n",
       "      <th>143</th>\n",
       "      <td>4</td>\n",
       "      <td>88.5</td>\n",
       "      <td>50.0</td>\n",
       "      <td>8.0</td>\n",
       "      <td>5690000</td>\n",
       "      <td>Орджоникидзевский</td>\n",
       "      <td>Орджоникидзевский</td>\n",
       "      <td>True</td>\n",
       "    </tr>\n",
       "    <tr>\n",
       "      <th>141</th>\n",
       "      <td>4</td>\n",
       "      <td>75.0</td>\n",
       "      <td>52.0</td>\n",
       "      <td>9.0</td>\n",
       "      <td>4800000</td>\n",
       "      <td>Орджоникидзевский</td>\n",
       "      <td>Орджоникидзевский</td>\n",
       "      <td>True</td>\n",
       "    </tr>\n",
       "  </tbody>\n",
       "</table>\n",
       "</div>"
      ],
      "text/plain": [
       "     Rooms  Square  LivSquare  KitSquare    Price           District  \\\n",
       "148      4    73.9       52.0        9.0  5100000  Орджоникидзевский   \n",
       "144      4    61.0       45.0        7.0  4500000  Орджоникидзевский   \n",
       "151      4    75.0       58.0        9.0  4890000  Орджоникидзевский   \n",
       "143      4    88.5       50.0        8.0  5690000  Орджоникидзевский   \n",
       "141      4    75.0       52.0        9.0  4800000  Орджоникидзевский   \n",
       "\n",
       "               Answers  diff  \n",
       "148  Орджоникидзевский  True  \n",
       "144  Орджоникидзевский  True  \n",
       "151  Орджоникидзевский  True  \n",
       "143  Орджоникидзевский  True  \n",
       "141  Орджоникидзевский  True  "
      ]
     },
     "execution_count": 118,
     "metadata": {},
     "output_type": "execute_result"
    }
   ],
   "source": [
    "ordjo_4_room=pd.DataFrame(DATASET.loc[(DATASET['District'] == 'Орджоникидзевский')&(DATASET['Rooms'] == 4)])\n",
    "ordjo_4_room.head(5)"
   ]
  },
  {
   "cell_type": "code",
   "execution_count": 119,
   "id": "b5e80268",
   "metadata": {},
   "outputs": [
    {
     "data": {
      "text/plain": [
       "True    1.0\n",
       "Name: diff, dtype: float64"
      ]
     },
     "execution_count": 119,
     "metadata": {},
     "output_type": "execute_result"
    }
   ],
   "source": [
    "ordjo_4_room['diff'].value_counts('True')"
   ]
  },
  {
   "cell_type": "code",
   "execution_count": null,
   "id": "a89b2702",
   "metadata": {},
   "outputs": [],
   "source": []
  }
 ],
 "metadata": {
  "kernelspec": {
   "display_name": "Python 3 (ipykernel)",
   "language": "python",
   "name": "python3"
  },
  "language_info": {
   "codemirror_mode": {
    "name": "ipython",
    "version": 3
   },
   "file_extension": ".py",
   "mimetype": "text/x-python",
   "name": "python",
   "nbconvert_exporter": "python",
   "pygments_lexer": "ipython3",
   "version": "3.9.13"
  }
 },
 "nbformat": 4,
 "nbformat_minor": 5
}
